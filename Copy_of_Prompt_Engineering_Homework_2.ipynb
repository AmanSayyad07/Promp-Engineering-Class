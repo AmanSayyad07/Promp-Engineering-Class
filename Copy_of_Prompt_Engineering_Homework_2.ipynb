{
  "nbformat": 4,
  "nbformat_minor": 0,
  "metadata": {
    "colab": {
      "provenance": []
    },
    "kernelspec": {
      "name": "python3",
      "display_name": "Python 3"
    },
    "language_info": {
      "name": "python"
    }
  },
  "cells": [
    {
      "cell_type": "code",
      "source": [
        "!pip install langchain groq\n",
        "!pip install langchain-groq groq\n",
        "\n"
      ],
      "metadata": {
        "colab": {
          "base_uri": "https://localhost:8080/"
        },
        "id": "wmltwjIth62E",
        "outputId": "e8c592cb-6558-4b75-af4e-20708599f0ac"
      },
      "execution_count": null,
      "outputs": [
        {
          "output_type": "stream",
          "name": "stdout",
          "text": [
            "Collecting langchain\n",
            "  Downloading langchain-0.2.14-py3-none-any.whl.metadata (7.1 kB)\n",
            "Collecting groq\n",
            "  Downloading groq-0.10.0-py3-none-any.whl.metadata (13 kB)\n",
            "Requirement already satisfied: PyYAML>=5.3 in /usr/local/lib/python3.10/dist-packages (from langchain) (6.0.2)\n",
            "Requirement already satisfied: SQLAlchemy<3,>=1.4 in /usr/local/lib/python3.10/dist-packages (from langchain) (2.0.32)\n",
            "Requirement already satisfied: aiohttp<4.0.0,>=3.8.3 in /usr/local/lib/python3.10/dist-packages (from langchain) (3.10.5)\n",
            "Requirement already satisfied: async-timeout<5.0.0,>=4.0.0 in /usr/local/lib/python3.10/dist-packages (from langchain) (4.0.3)\n",
            "Collecting langchain-core<0.3.0,>=0.2.32 (from langchain)\n",
            "  Downloading langchain_core-0.2.35-py3-none-any.whl.metadata (6.2 kB)\n",
            "Collecting langchain-text-splitters<0.3.0,>=0.2.0 (from langchain)\n",
            "  Downloading langchain_text_splitters-0.2.2-py3-none-any.whl.metadata (2.1 kB)\n",
            "Collecting langsmith<0.2.0,>=0.1.17 (from langchain)\n",
            "  Downloading langsmith-0.1.105-py3-none-any.whl.metadata (13 kB)\n",
            "Requirement already satisfied: numpy<2,>=1 in /usr/local/lib/python3.10/dist-packages (from langchain) (1.26.4)\n",
            "Requirement already satisfied: pydantic<3,>=1 in /usr/local/lib/python3.10/dist-packages (from langchain) (2.8.2)\n",
            "Requirement already satisfied: requests<3,>=2 in /usr/local/lib/python3.10/dist-packages (from langchain) (2.32.3)\n",
            "Collecting tenacity!=8.4.0,<9.0.0,>=8.1.0 (from langchain)\n",
            "  Downloading tenacity-8.5.0-py3-none-any.whl.metadata (1.2 kB)\n",
            "Requirement already satisfied: anyio<5,>=3.5.0 in /usr/local/lib/python3.10/dist-packages (from groq) (3.7.1)\n",
            "Requirement already satisfied: distro<2,>=1.7.0 in /usr/lib/python3/dist-packages (from groq) (1.7.0)\n",
            "Collecting httpx<1,>=0.23.0 (from groq)\n",
            "  Downloading httpx-0.27.2-py3-none-any.whl.metadata (7.1 kB)\n",
            "Requirement already satisfied: sniffio in /usr/local/lib/python3.10/dist-packages (from groq) (1.3.1)\n",
            "Requirement already satisfied: typing-extensions<5,>=4.7 in /usr/local/lib/python3.10/dist-packages (from groq) (4.12.2)\n",
            "Requirement already satisfied: aiohappyeyeballs>=2.3.0 in /usr/local/lib/python3.10/dist-packages (from aiohttp<4.0.0,>=3.8.3->langchain) (2.4.0)\n",
            "Requirement already satisfied: aiosignal>=1.1.2 in /usr/local/lib/python3.10/dist-packages (from aiohttp<4.0.0,>=3.8.3->langchain) (1.3.1)\n",
            "Requirement already satisfied: attrs>=17.3.0 in /usr/local/lib/python3.10/dist-packages (from aiohttp<4.0.0,>=3.8.3->langchain) (24.2.0)\n",
            "Requirement already satisfied: frozenlist>=1.1.1 in /usr/local/lib/python3.10/dist-packages (from aiohttp<4.0.0,>=3.8.3->langchain) (1.4.1)\n",
            "Requirement already satisfied: multidict<7.0,>=4.5 in /usr/local/lib/python3.10/dist-packages (from aiohttp<4.0.0,>=3.8.3->langchain) (6.0.5)\n",
            "Requirement already satisfied: yarl<2.0,>=1.0 in /usr/local/lib/python3.10/dist-packages (from aiohttp<4.0.0,>=3.8.3->langchain) (1.9.4)\n",
            "Requirement already satisfied: idna>=2.8 in /usr/local/lib/python3.10/dist-packages (from anyio<5,>=3.5.0->groq) (3.7)\n",
            "Requirement already satisfied: exceptiongroup in /usr/local/lib/python3.10/dist-packages (from anyio<5,>=3.5.0->groq) (1.2.2)\n",
            "Requirement already satisfied: certifi in /usr/local/lib/python3.10/dist-packages (from httpx<1,>=0.23.0->groq) (2024.7.4)\n",
            "Collecting httpcore==1.* (from httpx<1,>=0.23.0->groq)\n",
            "  Downloading httpcore-1.0.5-py3-none-any.whl.metadata (20 kB)\n",
            "Collecting h11<0.15,>=0.13 (from httpcore==1.*->httpx<1,>=0.23.0->groq)\n",
            "  Downloading h11-0.14.0-py3-none-any.whl.metadata (8.2 kB)\n",
            "Collecting jsonpatch<2.0,>=1.33 (from langchain-core<0.3.0,>=0.2.32->langchain)\n",
            "  Downloading jsonpatch-1.33-py2.py3-none-any.whl.metadata (3.0 kB)\n",
            "Requirement already satisfied: packaging<25,>=23.2 in /usr/local/lib/python3.10/dist-packages (from langchain-core<0.3.0,>=0.2.32->langchain) (24.1)\n",
            "Collecting orjson<4.0.0,>=3.9.14 (from langsmith<0.2.0,>=0.1.17->langchain)\n",
            "  Downloading orjson-3.10.7-cp310-cp310-manylinux_2_17_x86_64.manylinux2014_x86_64.whl.metadata (50 kB)\n",
            "\u001b[2K     \u001b[90m━━━━━━━━━━━━━━━━━━━━━━━━━━━━━━━━━━━━━━━━\u001b[0m \u001b[32m50.4/50.4 kB\u001b[0m \u001b[31m668.7 kB/s\u001b[0m eta \u001b[36m0:00:00\u001b[0m\n",
            "\u001b[?25hRequirement already satisfied: annotated-types>=0.4.0 in /usr/local/lib/python3.10/dist-packages (from pydantic<3,>=1->langchain) (0.7.0)\n",
            "Requirement already satisfied: pydantic-core==2.20.1 in /usr/local/lib/python3.10/dist-packages (from pydantic<3,>=1->langchain) (2.20.1)\n",
            "Requirement already satisfied: charset-normalizer<4,>=2 in /usr/local/lib/python3.10/dist-packages (from requests<3,>=2->langchain) (3.3.2)\n",
            "Requirement already satisfied: urllib3<3,>=1.21.1 in /usr/local/lib/python3.10/dist-packages (from requests<3,>=2->langchain) (2.0.7)\n",
            "Requirement already satisfied: greenlet!=0.4.17 in /usr/local/lib/python3.10/dist-packages (from SQLAlchemy<3,>=1.4->langchain) (3.0.3)\n",
            "Collecting jsonpointer>=1.9 (from jsonpatch<2.0,>=1.33->langchain-core<0.3.0,>=0.2.32->langchain)\n",
            "  Downloading jsonpointer-3.0.0-py2.py3-none-any.whl.metadata (2.3 kB)\n",
            "Downloading langchain-0.2.14-py3-none-any.whl (997 kB)\n",
            "\u001b[2K   \u001b[90m━━━━━━━━━━━━━━━━━━━━━━━━━━━━━━━━━━━━━━━━\u001b[0m \u001b[32m997.8/997.8 kB\u001b[0m \u001b[31m18.0 MB/s\u001b[0m eta \u001b[36m0:00:00\u001b[0m\n",
            "\u001b[?25hDownloading groq-0.10.0-py3-none-any.whl (106 kB)\n",
            "\u001b[2K   \u001b[90m━━━━━━━━━━━━━━━━━━━━━━━━━━━━━━━━━━━━━━━━\u001b[0m \u001b[32m106.3/106.3 kB\u001b[0m \u001b[31m5.1 MB/s\u001b[0m eta \u001b[36m0:00:00\u001b[0m\n",
            "\u001b[?25hDownloading httpx-0.27.2-py3-none-any.whl (76 kB)\n",
            "\u001b[2K   \u001b[90m━━━━━━━━━━━━━━━━━━━━━━━━━━━━━━━━━━━━━━━━\u001b[0m \u001b[32m76.4/76.4 kB\u001b[0m \u001b[31m4.6 MB/s\u001b[0m eta \u001b[36m0:00:00\u001b[0m\n",
            "\u001b[?25hDownloading httpcore-1.0.5-py3-none-any.whl (77 kB)\n",
            "\u001b[2K   \u001b[90m━━━━━━━━━━━━━━━━━━━━━━━━━━━━━━━━━━━━━━━━\u001b[0m \u001b[32m77.9/77.9 kB\u001b[0m \u001b[31m4.9 MB/s\u001b[0m eta \u001b[36m0:00:00\u001b[0m\n",
            "\u001b[?25hDownloading langchain_core-0.2.35-py3-none-any.whl (394 kB)\n",
            "\u001b[2K   \u001b[90m━━━━━━━━━━━━━━━━━━━━━━━━━━━━━━━━━━━━━━━━\u001b[0m \u001b[32m394.9/394.9 kB\u001b[0m \u001b[31m20.9 MB/s\u001b[0m eta \u001b[36m0:00:00\u001b[0m\n",
            "\u001b[?25hDownloading langchain_text_splitters-0.2.2-py3-none-any.whl (25 kB)\n",
            "Downloading langsmith-0.1.105-py3-none-any.whl (150 kB)\n",
            "\u001b[2K   \u001b[90m━━━━━━━━━━━━━━━━━━━━━━━━━━━━━━━━━━━━━━━━\u001b[0m \u001b[32m150.5/150.5 kB\u001b[0m \u001b[31m9.9 MB/s\u001b[0m eta \u001b[36m0:00:00\u001b[0m\n",
            "\u001b[?25hDownloading tenacity-8.5.0-py3-none-any.whl (28 kB)\n",
            "Downloading jsonpatch-1.33-py2.py3-none-any.whl (12 kB)\n",
            "Downloading orjson-3.10.7-cp310-cp310-manylinux_2_17_x86_64.manylinux2014_x86_64.whl (141 kB)\n",
            "\u001b[2K   \u001b[90m━━━━━━━━━━━━━━━━━━━━━━━━━━━━━━━━━━━━━━━━\u001b[0m \u001b[32m141.9/141.9 kB\u001b[0m \u001b[31m9.7 MB/s\u001b[0m eta \u001b[36m0:00:00\u001b[0m\n",
            "\u001b[?25hDownloading h11-0.14.0-py3-none-any.whl (58 kB)\n",
            "\u001b[2K   \u001b[90m━━━━━━━━━━━━━━━━━━━━━━━━━━━━━━━━━━━━━━━━\u001b[0m \u001b[32m58.3/58.3 kB\u001b[0m \u001b[31m4.0 MB/s\u001b[0m eta \u001b[36m0:00:00\u001b[0m\n",
            "\u001b[?25hDownloading jsonpointer-3.0.0-py2.py3-none-any.whl (7.6 kB)\n",
            "Installing collected packages: tenacity, orjson, jsonpointer, h11, jsonpatch, httpcore, httpx, langsmith, groq, langchain-core, langchain-text-splitters, langchain\n",
            "  Attempting uninstall: tenacity\n",
            "    Found existing installation: tenacity 9.0.0\n",
            "    Uninstalling tenacity-9.0.0:\n",
            "      Successfully uninstalled tenacity-9.0.0\n",
            "Successfully installed groq-0.10.0 h11-0.14.0 httpcore-1.0.5 httpx-0.27.2 jsonpatch-1.33 jsonpointer-3.0.0 langchain-0.2.14 langchain-core-0.2.35 langchain-text-splitters-0.2.2 langsmith-0.1.105 orjson-3.10.7 tenacity-8.5.0\n",
            "Collecting langchain-groq\n",
            "  Downloading langchain_groq-0.1.9-py3-none-any.whl.metadata (2.9 kB)\n",
            "Requirement already satisfied: groq in /usr/local/lib/python3.10/dist-packages (0.10.0)\n",
            "Requirement already satisfied: langchain-core<0.3.0,>=0.2.26 in /usr/local/lib/python3.10/dist-packages (from langchain-groq) (0.2.35)\n",
            "Requirement already satisfied: anyio<5,>=3.5.0 in /usr/local/lib/python3.10/dist-packages (from groq) (3.7.1)\n",
            "Requirement already satisfied: distro<2,>=1.7.0 in /usr/lib/python3/dist-packages (from groq) (1.7.0)\n",
            "Requirement already satisfied: httpx<1,>=0.23.0 in /usr/local/lib/python3.10/dist-packages (from groq) (0.27.2)\n",
            "Requirement already satisfied: pydantic<3,>=1.9.0 in /usr/local/lib/python3.10/dist-packages (from groq) (2.8.2)\n",
            "Requirement already satisfied: sniffio in /usr/local/lib/python3.10/dist-packages (from groq) (1.3.1)\n",
            "Requirement already satisfied: typing-extensions<5,>=4.7 in /usr/local/lib/python3.10/dist-packages (from groq) (4.12.2)\n",
            "Requirement already satisfied: idna>=2.8 in /usr/local/lib/python3.10/dist-packages (from anyio<5,>=3.5.0->groq) (3.7)\n",
            "Requirement already satisfied: exceptiongroup in /usr/local/lib/python3.10/dist-packages (from anyio<5,>=3.5.0->groq) (1.2.2)\n",
            "Requirement already satisfied: certifi in /usr/local/lib/python3.10/dist-packages (from httpx<1,>=0.23.0->groq) (2024.7.4)\n",
            "Requirement already satisfied: httpcore==1.* in /usr/local/lib/python3.10/dist-packages (from httpx<1,>=0.23.0->groq) (1.0.5)\n",
            "Requirement already satisfied: h11<0.15,>=0.13 in /usr/local/lib/python3.10/dist-packages (from httpcore==1.*->httpx<1,>=0.23.0->groq) (0.14.0)\n",
            "Requirement already satisfied: PyYAML>=5.3 in /usr/local/lib/python3.10/dist-packages (from langchain-core<0.3.0,>=0.2.26->langchain-groq) (6.0.2)\n",
            "Requirement already satisfied: jsonpatch<2.0,>=1.33 in /usr/local/lib/python3.10/dist-packages (from langchain-core<0.3.0,>=0.2.26->langchain-groq) (1.33)\n",
            "Requirement already satisfied: langsmith<0.2.0,>=0.1.75 in /usr/local/lib/python3.10/dist-packages (from langchain-core<0.3.0,>=0.2.26->langchain-groq) (0.1.105)\n",
            "Requirement already satisfied: packaging<25,>=23.2 in /usr/local/lib/python3.10/dist-packages (from langchain-core<0.3.0,>=0.2.26->langchain-groq) (24.1)\n",
            "Requirement already satisfied: tenacity!=8.4.0,<9.0.0,>=8.1.0 in /usr/local/lib/python3.10/dist-packages (from langchain-core<0.3.0,>=0.2.26->langchain-groq) (8.5.0)\n",
            "Requirement already satisfied: annotated-types>=0.4.0 in /usr/local/lib/python3.10/dist-packages (from pydantic<3,>=1.9.0->groq) (0.7.0)\n",
            "Requirement already satisfied: pydantic-core==2.20.1 in /usr/local/lib/python3.10/dist-packages (from pydantic<3,>=1.9.0->groq) (2.20.1)\n",
            "Requirement already satisfied: jsonpointer>=1.9 in /usr/local/lib/python3.10/dist-packages (from jsonpatch<2.0,>=1.33->langchain-core<0.3.0,>=0.2.26->langchain-groq) (3.0.0)\n",
            "Requirement already satisfied: orjson<4.0.0,>=3.9.14 in /usr/local/lib/python3.10/dist-packages (from langsmith<0.2.0,>=0.1.75->langchain-core<0.3.0,>=0.2.26->langchain-groq) (3.10.7)\n",
            "Requirement already satisfied: requests<3,>=2 in /usr/local/lib/python3.10/dist-packages (from langsmith<0.2.0,>=0.1.75->langchain-core<0.3.0,>=0.2.26->langchain-groq) (2.32.3)\n",
            "Requirement already satisfied: charset-normalizer<4,>=2 in /usr/local/lib/python3.10/dist-packages (from requests<3,>=2->langsmith<0.2.0,>=0.1.75->langchain-core<0.3.0,>=0.2.26->langchain-groq) (3.3.2)\n",
            "Requirement already satisfied: urllib3<3,>=1.21.1 in /usr/local/lib/python3.10/dist-packages (from requests<3,>=2->langsmith<0.2.0,>=0.1.75->langchain-core<0.3.0,>=0.2.26->langchain-groq) (2.0.7)\n",
            "Downloading langchain_groq-0.1.9-py3-none-any.whl (14 kB)\n",
            "Installing collected packages: langchain-groq\n",
            "Successfully installed langchain-groq-0.1.9\n"
          ]
        }
      ]
    },
    {
      "cell_type": "code",
      "execution_count": null,
      "metadata": {
        "id": "wvsAJWP4gaP5"
      },
      "outputs": [],
      "source": [
        "from langchain_groq import ChatGroq\n",
        "from langchain.chains import LLMChain, SimpleSequentialChain\n",
        "from langchain_core.messages import AIMessage, HumanMessage, SystemMessage\n",
        "from langchain.prompts import Prompt\n",
        "from langchain import PromptTemplate, LLMChain\n",
        "import os\n",
        "\n",
        "# Set your Groq API key\n",
        "os.environ[\"GROQ_API_KEY\"] = \"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\"\n",
        "\n",
        "# Initialize the Groq LLM\n",
        "llm = ChatGroq(model_name=\"mixtral-8x7b-32768\")\n",
        "\n"
      ]
    },
    {
      "cell_type": "markdown",
      "source": [
        "Question 1: Chain-of-Thought Prompting Implement a Chain-of-Thought prompting system to solve word problems. Your system should break down the problem-solving process into steps and show its reasoning.\n",
        "\n",
        "Task:\n",
        "\n",
        "● Create a function that takes a word problem as input.\n",
        "\n",
        "● Use the OpenAI API or any other LLM API to generate a step-by-step solution.\n",
        "\n",
        "● The output should show each step of the reasoning process.\n",
        "\n",
        "● Test your function with at least two word problems of varying complexity.\n",
        "\n",
        "Example word problem: \"A baker has 150 eggs. If each cake requires 3 eggs and each cookie requires 2 eggs, how many cakes and cookies can the baker make if they want to use all the eggs and make an equal number of each?\""
      ],
      "metadata": {
        "id": "n8VLCeu9ieM9"
      }
    },
    {
      "cell_type": "code",
      "source": [
        "#Setup HumanMessage, SystemMessage for simple prompt.\n",
        "example = \"\"\"\n",
        "Question: A gardener has 36 seeds. Each plant requires either 3 seeds for a rose or 4 seeds for a tulip. The gardener wants to use all the seeds and plant an equal number of roses and tulips.Answer: 10.\n",
        "Answer: 5.14\n",
        "Question: A library has 45 books. If they lent out 12 books and then received 8 more as donations, how many books does the library have now?\n",
        "Answer:\n",
        "\"\"\"\n",
        "human_message = HumanMessage(content=example)\n",
        "system_message = SystemMessage(content=\"You are helpful assistant.\")\n",
        "\n",
        "\n",
        "new_prompt = (system_message + human_message)\n",
        "\n",
        "print (f\"Prompt: {new_prompt}\")\n",
        "\n",
        "chain = LLMChain(llm=llm, prompt=new_prompt)\n",
        "reponse = chain.run({})\n",
        "print(f\"Response: {reponse}\")"
      ],
      "metadata": {
        "colab": {
          "base_uri": "https://localhost:8080/"
        },
        "id": "0dfAS327iLW7",
        "outputId": "15fa2d95-7ec6-470b-c433-edacd04a14da"
      },
      "execution_count": null,
      "outputs": [
        {
          "output_type": "stream",
          "name": "stdout",
          "text": [
            "Prompt: input_variables=[] messages=[SystemMessage(content='You are helpful assistant.'), HumanMessage(content='\\nQuestion: A gardener has 36 seeds. Each plant requires either 3 seeds for a rose or 4 seeds for a tulip. The gardener wants to use all the seeds and plant an equal number of roses and tulips.Answer: 10.\\nAnswer: 5.14\\nQuestion: A library has 45 books. If they lent out 12 books and then received 8 more as donations, how many books does the library have now?\\nAnswer:\\n')]\n"
          ]
        },
        {
          "output_type": "stream",
          "name": "stderr",
          "text": [
            "/usr/local/lib/python3.10/dist-packages/langchain_core/_api/deprecation.py:151: LangChainDeprecationWarning: The class `LLMChain` was deprecated in LangChain 0.1.17 and will be removed in 1.0. Use RunnableSequence, e.g., `prompt | llm` instead.\n",
            "  warn_deprecated(\n",
            "/usr/local/lib/python3.10/dist-packages/langchain_core/_api/deprecation.py:151: LangChainDeprecationWarning: The method `Chain.run` was deprecated in langchain 0.1.0 and will be removed in 1.0. Use invoke instead.\n",
            "  warn_deprecated(\n"
          ]
        },
        {
          "output_type": "stream",
          "name": "stdout",
          "text": [
            "Response: The library has 41 books now.\n",
            "\n",
            "Here's the reasoning:\n",
            "1. The library starts with 45 books.\n",
            "2. They lend out 12 books, leaving them with 45 - 12 = 33 books.\n",
            "3. Then, they receive 8 books as donations, adding to their collection.\n",
            "4. So, the total number of books in the library now is 33 + 8 = 41 books.\n"
          ]
        }
      ]
    },
    {
      "cell_type": "markdown",
      "source": [
        "Question 2: Prompt-chaining Develop a prompt-chaining system that generates a short story based on user input. Thesystem should use multiple prompts in sequence, with each prompt building on the output of theprevious one.\n",
        "\n",
        "Task:\n",
        "\n",
        "● Create a series of at least 3 prompts that will be chained together.\n",
        "\n",
        "● The first prompt should ask for a genre and main character.\n",
        "\n",
        "● Subsequent prompts should build on previous outputs to develop the plot and conclusion.\n",
        "\n",
        "● Implement the chaining logic to pass information between prompts.\n",
        "\n",
        "● Allow the user to input the initial genre and main character.\n",
        "\n",
        "● Output the final story generated through the chain."
      ],
      "metadata": {
        "id": "s2gkKeh4jesJ"
      }
    },
    {
      "cell_type": "code",
      "source": [
        "# System message setup\n",
        "system_message = SystemMessage(content=\"You are a creative assistant for generating short stories.\")\n",
        "\n",
        "# Prompt 1: Get genre and main character\n",
        "initial_prompt = HumanMessage(content=\"Provide a genre and a main character for a short story.\")\n",
        "\n",
        "# Create the chain and get the genre and character\n",
        "chain1 = LLMChain(llm=llm, prompt=system_message + initial_prompt)\n",
        "response1 = chain1.run({})\n",
        "\n",
        "try:\n",
        "    genre, character = response1.split(', ')\n",
        "except ValueError as e:\n",
        "    print(f\"Error parsing response: {e}\")\n",
        "    genre, character = None, None\n",
        "\n",
        "# Example response\n",
        "response1 = \"Fantasy, The Lost City\"\n",
        "print(f\"Genre: {genre}, \\nCharacter: {character}\")\n",
        "\n",
        "# Prompt 2: Develop the plot based on the genre and character\n",
        "plot_prompt = HumanMessage(content=f\"Based on the genre '{genre}' and the main character '{character}', write a brief plot outline for a short story.\")\n",
        "\n",
        "# Create the chain and get the plot\n",
        "chain2 = LLMChain(llm=llm, prompt=system_message + plot_prompt)\n",
        "plot = chain2.run({})\n",
        "\n",
        "# Prompt 3: Write the conclusion based on the plot\n",
        "conclusion_prompt = HumanMessage(content=f\"Based on the plot outline provided, write the conclusion for the short story.\")\n",
        "\n",
        "# Create the chain and get the conclusion\n",
        "chain3 = LLMChain(llm=llm, prompt=system_message + conclusion_prompt)\n",
        "conclusion = chain3.run({})\n",
        "\n",
        "# Combine all parts to form the final story\n",
        "final_story = f\"Genre: {genre}\\nMain Character: {character}\\nPlot: {plot}\\nConclusion: {conclusion}\"\n",
        "print(final_story)\n"
      ],
      "metadata": {
        "colab": {
          "base_uri": "https://localhost:8080/"
        },
        "id": "UKD09mxxiMMR",
        "outputId": "ffaf3499-b94b-4975-cb38-237d1b369e76"
      },
      "execution_count": null,
      "outputs": [
        {
          "output_type": "stream",
          "name": "stdout",
          "text": [
            "Error parsing response: not enough values to unpack (expected 2, got 1)\n",
            "Genre: None, \n",
            "Character: None\n",
            "Genre: None\n",
            "Main Character: None\n",
            "Plot: Title: The Invisible Realm\n",
            "\n",
            "In a world where the invisible realm coexists with the visible one, our protagonist, an unseen entity, finds themselves lost and lonely. Unable to communicate with the physical world, they watch as humans go about their lives, longing for connection.\n",
            "\n",
            "One day, they stumble upon a young girl, Lily, who has the unique ability to perceive unseen entities. A friendship blossoms between them, and the invisible entity finally finds the companionship they've yearned for.\n",
            "\n",
            "However, this newfound friendship draws the attention of a malevolent force in the invisible realm. The entity must now protect Lily and her gift from those who wish to exploit it. In the process, they discover their own strength and purpose, forever changing the relationship between the two realms.\n",
            "Conclusion: Plot Outline:\n",
            "In a small, tight-knit town, a mysterious old man moves into the abandoned mansion on the hill. The townsfolk are wary of him, but the children are fascinated. One day, a group of kids discovers a hidden door in the mansion's garden wall. Behind the door, they find an enchanting secret garden filled with rare and beautiful plants. The old man catches them and, instead of scolding them, he invites them to help him tend to the garden.\n",
            "\n",
            "Conclusion:\n",
            "Word spread around town about the magical garden, and soon, people from all walks of life started visiting, fostering a sense of unity and shared wonder that the town had never experienced before. The old man, whose name was revealed to be Professor Thornfield, was a retired botanist who had dedicated his life to preserving rare and endangered plant species. Through the children's help, he was able to continue his life's work, and the town flourished alongside the secret garden.\n",
            "\n",
            "As the years passed, the garden became a symbol of the town's resilience and unity. The once-mysterious mansion on the hill was now a beacon of knowledge and beauty. Professor Thornfield, much like the plants he nurtured, grew to be an integral part of the community. The townsfolk had learned that sometimes, the most beautiful and enchanting things come from the most unexpected places. And so, their little town blossomed, just like the secret garden that brought them together.\n"
          ]
        }
      ]
    },
    {
      "cell_type": "markdown",
      "source": [
        "Question 3: Tree-of-Thought Prompting Implement a Tree-of-Thought prompting system to solve a complex problem. The system should explore multiple paths of reasoning and select the most promising one. Task:\n",
        "\n",
        "● Create a function that takes a complex problem as input.\n",
        "\n",
        "● Generate at least 3 different initial approaches to solving the problem.\n",
        "\n",
        "● For each approach, develop 2-3 possible next steps.\n",
        "\n",
        "● Implement a method to evaluate the promise of each path.\n",
        "\n",
        "● Select the most promising path and generate a final solution.\n",
        "\n",
        "● Test your system with the following problem:\n",
        "\n",
        "Problem: \"Design a sustainable urban transportation system for a city of 1 million people. Consider factors such as environmental impact, cost-effectiveness, and accessibility for all residents.\""
      ],
      "metadata": {
        "id": "cHJUNOjmjpr-"
      }
    },
    {
      "cell_type": "code",
      "source": [
        "# First prompt template\n",
        "first_prompt = PromptTemplate(\n",
        "    input_variables=[\"topic\"],\n",
        "    template=\"Write a short introduction about {topic}.\"\n",
        ")\n",
        "\n",
        "# Second prompt template\n",
        "second_prompt = PromptTemplate(\n",
        "    input_variables=[\"introduction\"],\n",
        "    template=\"Based on this introduction, suggest 3 key points to expand upon: {introduction}\"\n",
        ")\n",
        "\n",
        "# Third prompt template\n",
        "third_prompt = PromptTemplate(\n",
        "    input_variables=[\"key_points\"],\n",
        "    template=\"For each of these key points, provide a brief explanation: {key_points}\"\n",
        ")\n",
        "\n",
        "# Create chains\n",
        "chain_one = LLMChain(llm=llm, prompt=first_prompt)\n",
        "chain_two = LLMChain(llm=llm, prompt=second_prompt)\n",
        "chain_three = LLMChain(llm=llm, prompt=third_prompt)\n",
        "\n",
        "# Create the sequential chain\n",
        "overall_chain = SimpleSequentialChain(\n",
        "    chains=[chain_one, chain_two, chain_three],\n",
        "    verbose=True\n",
        ")\n",
        "\n",
        "# Run the chain\n",
        "topic = \"Design a sustainable urban transportation system for a city of 1 million people.Consider factors such as environmental impact, cost-effectiveness, and accessibility for allresidents\"\n",
        "result = overall_chain.run(topic)\n",
        "\n",
        "print(result)"
      ],
      "metadata": {
        "colab": {
          "base_uri": "https://localhost:8080/"
        },
        "id": "v3riFAn4iMQe",
        "outputId": "5a235604-b44d-43ef-c1f2-bb8c812a8b14"
      },
      "execution_count": null,
      "outputs": [
        {
          "output_type": "stream",
          "name": "stdout",
          "text": [
            "\n",
            "\n",
            "\u001b[1m> Entering new SimpleSequentialChain chain...\u001b[0m\n",
            "\u001b[36;1m\u001b[1;3mDesigning a sustainable urban transportation system for a city of 1 million people is a complex task that requires careful consideration of various factors. The goal is to create a system that minimizes environmental impact, is cost-effective, and accessible to all residents.\n",
            "\n",
            "To achieve these objectives, a multi-modal transportation system that includes a mix of public transit, active transportation (such as walking and cycling), and shared mobility options (like car-sharing and ride-hailing) should be prioritized. Public transit, in particular, should be the backbone of the system, with frequent and reliable service that connects all parts of the city.\n",
            "\n",
            "In terms of environmental impact, prioritizing electric or low-emission vehicles for public transit and shared mobility options is crucial. Additionally, designing the system to encourage active transportation can help reduce greenhouse gas emissions and improve air quality.\n",
            "\n",
            "Cost-effectiveness can be achieved by optimizing the use of existing infrastructure and implementing demand management strategies, such as congestion pricing and dynamic parking rates. Public-private partnerships can also be explored to leverage private sector investment and expertise.\n",
            "\n",
            "Accessibility for all residents can be ensured by designing the system to serve all neighborhoods, including those that are traditionally underserved by transportation options. This can be achieved by prioritizing walkable and bikeable streets, providing accessible transit options, and implementing equitable fare policies.\n",
            "\n",
            "Overall, designing a sustainable urban transportation system for a city of 1 million people requires a holistic and integrated approach that considers the needs and perspectives of all stakeholders, including residents, businesses, and government agencies. By prioritizing environmental impact, cost-effectiveness, and accessibility, we can create a transportation system that serves the needs of the community while promoting sustainability and equity.\u001b[0m\n",
            "\u001b[33;1m\u001b[1;3m1. Prioritizing Public Transit: A sustainable urban transportation system should prioritize public transit as the backbone of the system, with frequent and reliable service that connects all parts of the city. This can be achieved by investing in modern, efficient, and accessible public transit infrastructure, such as bus rapid transit (BRT) systems, light rail transit (LRT), and subways. Public transit should be designed to serve all residents, including those in traditionally underserved neighborhoods, and should be integrated with active transportation options, such as walking and cycling, to provide a seamless and convenient travel experience.\n",
            "\n",
            "2. Encouraging Active Transportation: Designing a sustainable urban transportation system requires encouraging active transportation options, such as walking and cycling. This can be achieved by investing in safe and accessible pedestrian and cycling infrastructure, such as wide sidewalks, bike lanes, and multi-use paths. Additionally, promoting active transportation can help reduce greenhouse gas emissions and improve air quality, while also providing health and economic benefits to residents.\n",
            "\n",
            "3. Implementing Demand Management Strategies: To ensure the cost-effectiveness of a sustainable urban transportation system, implementing demand management strategies is crucial. This can be achieved by implementing congestion pricing, dynamic parking rates, and other demand management measures that encourage sustainable transportation modes and reduce traffic congestion. Public-private partnerships can also be explored to leverage private sector investment and expertise, while also ensuring that the system remains accessible and affordable for all residents. Equitable fare policies can also be implemented to ensure that all residents have access to the system, regardless of their income level.\u001b[0m\n",
            "\u001b[38;5;200m\u001b[1;3m1. Prioritizing Public Transit: A sustainable urban transportation system should prioritize public transit as the backbone of the system because it offers several benefits. Public transit is a more efficient and sustainable way to move large numbers of people, reducing the need for individual cars and the associated greenhouse gas emissions. Frequent and reliable service is essential to make public transit a viable option for more people, and investments in modern, efficient, and accessible infrastructure, such as bus rapid transit (BRT) systems, light rail transit (LRT), and subways, can help achieve this. Public transit should be designed to serve all residents, including those in traditionally underserved neighborhoods, and should be integrated with active transportation options, such as walking and cycling, to provide a seamless and convenient travel experience.\n",
            "2. Encouraging Active Transportation: Designing a sustainable urban transportation system requires encouraging active transportation options, such as walking and cycling, because it offers several benefits. Active transportation modes are zero-emission, helping reduce greenhouse gas emissions and improve air quality. They also provide health benefits to residents, promoting physical activity and reducing the risk of chronic diseases. Investing in safe and accessible pedestrian and cycling infrastructure, such as wide sidewalks, bike lanes, and multi-use paths, can help encourage more people to choose active transportation modes. Promoting active transportation can also help reduce traffic congestion and improve the overall efficiency of the transportation system.\n",
            "3. Implementing Demand Management Strategies: Implementing demand management strategies is crucial to ensure the cost-effectiveness of a sustainable urban transportation system. Congestion pricing, dynamic parking rates, and other demand management measures can encourage sustainable transportation modes and reduce traffic congestion. Public-private partnerships can leverage private sector investment and expertise while ensuring that the system remains accessible and affordable for all residents. Equitable fare policies can also ensure that all residents have access to the system, regardless of their income level. Demand management strategies can help optimize the use of existing transportation infrastructure, reducing the need for costly expansions and helping to keep transportation costs affordable for residents and businesses.\u001b[0m\n",
            "\n",
            "\u001b[1m> Finished chain.\u001b[0m\n",
            "1. Prioritizing Public Transit: A sustainable urban transportation system should prioritize public transit as the backbone of the system because it offers several benefits. Public transit is a more efficient and sustainable way to move large numbers of people, reducing the need for individual cars and the associated greenhouse gas emissions. Frequent and reliable service is essential to make public transit a viable option for more people, and investments in modern, efficient, and accessible infrastructure, such as bus rapid transit (BRT) systems, light rail transit (LRT), and subways, can help achieve this. Public transit should be designed to serve all residents, including those in traditionally underserved neighborhoods, and should be integrated with active transportation options, such as walking and cycling, to provide a seamless and convenient travel experience.\n",
            "2. Encouraging Active Transportation: Designing a sustainable urban transportation system requires encouraging active transportation options, such as walking and cycling, because it offers several benefits. Active transportation modes are zero-emission, helping reduce greenhouse gas emissions and improve air quality. They also provide health benefits to residents, promoting physical activity and reducing the risk of chronic diseases. Investing in safe and accessible pedestrian and cycling infrastructure, such as wide sidewalks, bike lanes, and multi-use paths, can help encourage more people to choose active transportation modes. Promoting active transportation can also help reduce traffic congestion and improve the overall efficiency of the transportation system.\n",
            "3. Implementing Demand Management Strategies: Implementing demand management strategies is crucial to ensure the cost-effectiveness of a sustainable urban transportation system. Congestion pricing, dynamic parking rates, and other demand management measures can encourage sustainable transportation modes and reduce traffic congestion. Public-private partnerships can leverage private sector investment and expertise while ensuring that the system remains accessible and affordable for all residents. Equitable fare policies can also ensure that all residents have access to the system, regardless of their income level. Demand management strategies can help optimize the use of existing transportation infrastructure, reducing the need for costly expansions and helping to keep transportation costs affordable for residents and businesses.\n"
          ]
        }
      ]
    }
  ]
}